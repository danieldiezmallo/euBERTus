{
 "cells": [
  {
   "cell_type": "code",
   "execution_count": 1,
   "metadata": {
    "colab": {
     "base_uri": "https://localhost:8080/"
    },
    "executionInfo": {
     "elapsed": 13604,
     "status": "ok",
     "timestamp": 1619470532162,
     "user": {
      "displayName": "Daniel Díez",
      "photoUrl": "https://lh3.googleusercontent.com/a-/AOh14GhLEy0o7LWx6R7BMbWyhyGTGiCURLs_CtPEbpxL8P4=s64",
      "userId": "04428453110580774456"
     },
     "user_tz": -120
    },
    "id": "5duRggBRZKvP",
    "outputId": "9ee5099c-2223-43ca-babe-f925d5ae77e0"
   },
   "outputs": [],
   "source": [
    "#from google.colab import drivedrive.mount('/content/drive')\n",
    "#%cd /content/drive/MyDrive/tfm_code/03 Training\n",
    "#%pwd\n",
    "# Install `transformers` from master\n",
    "#!pip install transformers==4.5.1\n",
    "# !pip install git+https://github.com/huggingface/transformers\n",
    "#!pip install torch\n",
    "#!pip install sklearn\n",
    "# transformers version at notebook update --- 2.11.0\n",
    "# tokenizers version at notebook update --- 0.8.0rc1"
   ]
  },
  {
   "cell_type": "markdown",
   "metadata": {
    "id": "WQpUC_CDhnWW"
   },
   "source": [
    "## 1. Load the base models and the tokenizers\n"
   ]
  },
  {
   "cell_type": "code",
   "execution_count": 2,
   "metadata": {
    "colab": {
     "base_uri": "https://localhost:8080/"
    },
    "executionInfo": {
     "elapsed": 13936,
     "status": "ok",
     "timestamp": 1619470532500,
     "user": {
      "displayName": "Daniel Díez",
      "photoUrl": "https://lh3.googleusercontent.com/a-/AOh14GhLEy0o7LWx6R7BMbWyhyGTGiCURLs_CtPEbpxL8P4=s64",
      "userId": "04428453110580774456"
     },
     "user_tz": -120
    },
    "id": "kD140sFjh0LQ",
    "outputId": "785d1809-40de-4ef2-9a3a-2a38ae714754"
   },
   "outputs": [
    {
     "name": "stdout",
     "output_type": "stream",
     "text": [
      "Thu May 13 09:52:59 2021       \n",
      "+-----------------------------------------------------------------------------+\n",
      "| NVIDIA-SMI 450.119.03   Driver Version: 450.119.03   CUDA Version: 11.0     |\n",
      "|-------------------------------+----------------------+----------------------+\n",
      "| GPU  Name        Persistence-M| Bus-Id        Disp.A | Volatile Uncorr. ECC |\n",
      "| Fan  Temp  Perf  Pwr:Usage/Cap|         Memory-Usage | GPU-Util  Compute M. |\n",
      "|                               |                      |               MIG M. |\n",
      "|===============================+======================+======================|\n",
      "|   0  Tesla M60           Off  | 00000000:00:1E.0 Off |                    0 |\n",
      "| N/A   34C    P0    38W / 150W |      0MiB /  7618MiB |     99%      Default |\n",
      "|                               |                      |                  N/A |\n",
      "+-------------------------------+----------------------+----------------------+\n",
      "                                                                               \n",
      "+-----------------------------------------------------------------------------+\n",
      "| Processes:                                                                  |\n",
      "|  GPU   GI   CI        PID   Type   Process name                  GPU Memory |\n",
      "|        ID   ID                                                   Usage      |\n",
      "|=============================================================================|\n",
      "|  No running processes found                                                 |\n",
      "+-----------------------------------------------------------------------------+\n"
     ]
    }
   ],
   "source": [
    "# Check that we have a GPU\n",
    "!nvidia-smi"
   ]
  },
  {
   "cell_type": "code",
   "execution_count": 3,
   "metadata": {
    "colab": {
     "base_uri": "https://localhost:8080/"
    },
    "executionInfo": {
     "elapsed": 13932,
     "status": "ok",
     "timestamp": 1619470532501,
     "user": {
      "displayName": "Daniel Díez",
      "photoUrl": "https://lh3.googleusercontent.com/a-/AOh14GhLEy0o7LWx6R7BMbWyhyGTGiCURLs_CtPEbpxL8P4=s64",
      "userId": "04428453110580774456"
     },
     "user_tz": -120
    },
    "id": "VNZZs-r6iKAV",
    "outputId": "3b6cfb6c-5565-49e8-ee2b-c9ec4dbf10e7"
   },
   "outputs": [
    {
     "data": {
      "text/plain": [
       "True"
      ]
     },
     "execution_count": 3,
     "metadata": {},
     "output_type": "execute_result"
    }
   ],
   "source": [
    "# Check that PyTorch sees it\n",
    "import torch\n",
    "torch.cuda.is_available()"
   ]
  },
  {
   "cell_type": "markdown",
   "metadata": {
    "id": "_dR8Jv1Dy1ya"
   },
   "source": [
    "### Model checkpoint"
   ]
  },
  {
   "cell_type": "code",
   "execution_count": 4,
   "metadata": {
    "executionInfo": {
     "elapsed": 13933,
     "status": "ok",
     "timestamp": 1619470532503,
     "user": {
      "displayName": "Daniel Díez",
      "photoUrl": "https://lh3.googleusercontent.com/a-/AOh14GhLEy0o7LWx6R7BMbWyhyGTGiCURLs_CtPEbpxL8P4=s64",
      "userId": "04428453110580774456"
     },
     "user_tz": -120
    },
    "id": "3WJP178yy0yh"
   },
   "outputs": [],
   "source": [
    "# Select the model baseline to perform the transfer learning from\n",
    "model_checkpoint = 'distilbert-base-uncased'\n",
    "new_tokens = ['covid', 'covid-19', 'coronavirus', 'sars', 'sars-cov-2', 'pandemic', 'outbreak']"
   ]
  },
  {
   "cell_type": "markdown",
   "metadata": {
    "id": "yAwQ82JiE5pi"
   },
   "source": [
    "### Tokenizer"
   ]
  },
  {
   "cell_type": "code",
   "execution_count": 5,
   "metadata": {
    "executionInfo": {
     "elapsed": 14123,
     "status": "ok",
     "timestamp": 1619470532699,
     "user": {
      "displayName": "Daniel Díez",
      "photoUrl": "https://lh3.googleusercontent.com/a-/AOh14GhLEy0o7LWx6R7BMbWyhyGTGiCURLs_CtPEbpxL8P4=s64",
      "userId": "04428453110580774456"
     },
     "user_tz": -120
    },
    "id": "4keFBUjQFOD1"
   },
   "outputs": [
    {
     "data": {
      "text/plain": [
       "('../data/03_models/tokenizer/tokenizer_config.json',\n",
       " '../data/03_models/tokenizer/special_tokens_map.json',\n",
       " '../data/03_models/tokenizer/vocab.txt',\n",
       " '../data/03_models/tokenizer/added_tokens.json')"
      ]
     },
     "execution_count": 5,
     "metadata": {},
     "output_type": "execute_result"
    }
   ],
   "source": [
    "from transformers import DistilBertTokenizer\n",
    "tokenizer = DistilBertTokenizer.from_pretrained(model_checkpoint)\n",
    "tokenizer.add_tokens(new_tokens)\n",
    "tokenizer.save_pretrained('../data/03_models/tokenizer')"
   ]
  },
  {
   "cell_type": "markdown",
   "metadata": {
    "id": "6yNCw-3hFv9h"
   },
   "source": [
    "### Model\n",
    "Finally let's initialize our model. We are looking to train from a pretrained model"
   ]
  },
  {
   "cell_type": "code",
   "execution_count": 6,
   "metadata": {
    "executionInfo": {
     "elapsed": 22840,
     "status": "ok",
     "timestamp": 1619470541422,
     "user": {
      "displayName": "Daniel Díez",
      "photoUrl": "https://lh3.googleusercontent.com/a-/AOh14GhLEy0o7LWx6R7BMbWyhyGTGiCURLs_CtPEbpxL8P4=s64",
      "userId": "04428453110580774456"
     },
     "user_tz": -120
    },
    "id": "BzMqR-dzF4Ro"
   },
   "outputs": [
    {
     "data": {
      "text/plain": [
       "Embedding(30528, 768)"
      ]
     },
     "execution_count": 6,
     "metadata": {},
     "output_type": "execute_result"
    }
   ],
   "source": [
    "from transformers import AutoModelForMaskedLM\n",
    "model = AutoModelForMaskedLM.from_pretrained(model_checkpoint)\n",
    "model.resize_token_embeddings(len(tokenizer)) "
   ]
  },
  {
   "cell_type": "code",
   "execution_count": 7,
   "metadata": {
    "colab": {
     "base_uri": "https://localhost:8080/"
    },
    "executionInfo": {
     "elapsed": 22841,
     "status": "ok",
     "timestamp": 1619470541429,
     "user": {
      "displayName": "Daniel Díez",
      "photoUrl": "https://lh3.googleusercontent.com/a-/AOh14GhLEy0o7LWx6R7BMbWyhyGTGiCURLs_CtPEbpxL8P4=s64",
      "userId": "04428453110580774456"
     },
     "user_tz": -120
    },
    "id": "jU6JhBSTKiaM",
    "outputId": "ab6c983c-e6c5-41e7-e439-b5da1da4edda"
   },
   "outputs": [
    {
     "data": {
      "text/plain": [
       "66990144"
      ]
     },
     "execution_count": 7,
     "metadata": {},
     "output_type": "execute_result"
    }
   ],
   "source": [
    "model.num_parameters()"
   ]
  },
  {
   "cell_type": "markdown",
   "metadata": {
    "id": "ri2BIQKqjfHm"
   },
   "source": [
    "## 2. Model training"
   ]
  },
  {
   "cell_type": "markdown",
   "metadata": {
    "id": "5mNFxHtLzylq"
   },
   "source": [
    "### 2.1 Define a grid search function for the training\n",
    "\n",
    "Finally, in order to perform the training, a grid search function that allows random search is created. The functions does the following steps:\n",
    "* It finds all possible combinations of parameters among the parameters grid\n",
    "* Then, if a maximum number of fits is provided, it selects n_combinations random parameter combinations from the total list\n",
    "* It creates a directory to store the temporary trained models so they don't have to be loaded in memory\n",
    "* It splits the data into train and validations sets\n",
    "* Then, for every parameter combination in the list:\n",
    "    * It creates a transformers.Trainer object with a transfomers.TrainingArguments, that is created from the parameter combination dictionary, the baseline model, the datacollator to created the training batches by masking random tokens in the training set\n",
    "    * It trains the model\n",
    "    * It evaluates the perplexity of the model on the validation set\n",
    "    * It saves the score and the parameters used in a list\n",
    "    * It writes the model to disk\n",
    "* After all the models are trained, it finds the one with the lowest perplexity\n",
    "* It moves the model to the output folder\n",
    "* Finally, it returns all the models and perplexitys cores"
   ]
  },
  {
   "cell_type": "code",
   "execution_count": 8,
   "metadata": {
    "executionInfo": {
     "elapsed": 22844,
     "status": "ok",
     "timestamp": 1619470541432,
     "user": {
      "displayName": "Daniel Díez",
      "photoUrl": "https://lh3.googleusercontent.com/a-/AOh14GhLEy0o7LWx6R7BMbWyhyGTGiCURLs_CtPEbpxL8P4=s64",
      "userId": "04428453110580774456"
     },
     "user_tz": -120
    },
    "id": "3aNSMwex45B8"
   },
   "outputs": [],
   "source": [
    "from transformers import Trainer, TrainingArguments\n",
    "import time\n",
    "from itertools import product\n",
    "from sklearn.model_selection import train_test_split\n",
    "import math\n",
    "import os\n",
    "from random import sample\n",
    "from shutil import rmtree, move\n",
    "def grid_search_for_language_modeling(baseline_model=None, param_grid={}, n_combinations=None, X=None, data_collator=None, validation_size=0.15, random_state=42, model_name='model', out_dir='models/', tmp_dir='grid_search/'): \n",
    "    \"\"\"\n",
    "    Performs grid search over a grid of parameters for an ML model and another grid of parameters for a function applied to training data in order to augment it\n",
    "    It uses a custom cross validation function that only applies the function to the training data and validates on clean data\n",
    "    -------------------------------------------------------------------------------\n",
    "    Parameters:\n",
    "        - model: scikit-learn like model\n",
    "        - model_grid: dictionary of parameters to perform gird search on the _model\n",
    "        - X (dataframe): train data (np.array)\n",
    "        - validation_size\n",
    "\n",
    "    Returns:\n",
    "        - best_model: a dictionaty that contains the results with the best model found by performing the grid search over the _model and _function\n",
    "            + _best_model'\n",
    "            + _best_model_params\n",
    "            + _best_function_params\n",
    "            + _best_score\n",
    "    \"\"\"\n",
    "    # Get all combinations of parameters in grid\n",
    "    keys, values = zip(*param_grid.items())\n",
    "    param_combinations_list = [dict(zip(keys, v)) for v in product(*values)]\n",
    "    \n",
    "    for param_combination in param_combinations_list:\n",
    "        param_combination['eval_steps'] = (len(train_dataset) // param_combination[\"per_device_train_batch_size\"]) + 1\n",
    "\n",
    "    # If a max number of combinations is provided then n_combinations random param combinations are selected from the list\n",
    "    if n_combinations:\n",
    "        param_combinations_list = sample(param_combinations_list, n_combinations)\n",
    "    total_fits = len(param_combinations_list)\n",
    "    model_params, scores = [], []\n",
    "\n",
    "    # Create directory to save temporary models\n",
    "    if os.path.isdir(tmp_dir):\n",
    "        rmtree(tmp_dir)\n",
    "    os.makedirs(tmp_dir)\n",
    "\n",
    "    # Divide the dataset for validation\n",
    "    X_train, X_test = train_test_split(X, test_size=validation_size, random_state=random_state)\n",
    "\n",
    "    # Start grid search\n",
    "    start = time.time() # Get initial time of training\n",
    "    print(f'- Starting grid search, totalling {total_fits} jobs -')\n",
    "    for param_combination in param_combinations_list:\n",
    "\n",
    "        # Instantiate a model with the given param combination in the iteration\n",
    "        print(f'  - Training model {param_combination}')\n",
    "        training_args = TrainingArguments(**param_combination) # Unpacking the param grid\n",
    "        trainer = Trainer(\n",
    "                            model=baseline_model,\n",
    "                            args=training_args,\n",
    "                            train_dataset=X_train,\n",
    "                            eval_dataset=X_test,\n",
    "                            data_collator=data_collator,\n",
    "                        )\n",
    "        # Train the model\n",
    "        trainer.train()\n",
    "\n",
    "        # Save the model\n",
    "        trainer.save_model(f'{tmp_dir}/{len(os.listdir(tmp_dir))}')\n",
    "\n",
    "        # Evaluate performance\n",
    "        eval_results = trainer.evaluate()\n",
    "        model_score = math.exp(eval_results['eval_loss'])\n",
    "\n",
    "        model_params.append(param_combination)\n",
    "        scores.append(model_score)\n",
    "\n",
    "        elapsed_time = time.time() - start\n",
    "        print(f'------ - Perplexity: {model_score:.2f} | Fitted {len(scores)} jobs out of {total_fits}. Elapsed {time.strftime(\"%H:%M:%S\", time.gmtime(elapsed_time))} ------') \n",
    "            \n",
    "    elapsed_time = time.time() - start\n",
    "    print('--- Ending grid search, totalling {} jobs. Elapsed {} ---'.format(total_fits, time.strftime(\"%H:%M:%S\", time.gmtime(elapsed_time)))) \n",
    "    \n",
    "    # Get index og the model with the best score\n",
    "    best_index = scores.index(min(scores))\n",
    "    \n",
    "    # Move model to output_dir\n",
    "    os.rename(f'{tmp_dir}/{best_index}', f'{tmp_dir}/{model_name}')\n",
    "\n",
    "    # Remove the model in the output dir\n",
    "    if os.path.isdir(f'{out_dir}/{model_name}'):\n",
    "        rmtree(f'{out_dir}/{model_name}')\n",
    "    \n",
    "    # Move the contents of the new best model to the output dir\n",
    "    move(f'{tmp_dir}/{model_name}', f'{out_dir}/{model_name}')\n",
    "    # Remove working dir\n",
    "    rmtree(tmp_dir)\n",
    "\n",
    "    # Return the best params and score in a dict\n",
    "    return model_params, scores"
   ]
  },
  {
   "cell_type": "markdown",
   "metadata": {
    "id": "jBtUHRMliOLM"
   },
   "source": [
    "### 2.2 Model training on European COVID texts\n"
   ]
  },
  {
   "cell_type": "markdown",
   "metadata": {
    "id": "rY5hwSn4zsOy"
   },
   "source": [
    "#### Dataset build\n",
    "\n",
    "We'll build our dataset by applying our tokenizer to our text file.\n",
    "\n",
    "TextDataset: reads the full input text, tokenizes it and cuts it in block_sized chunks. Then adds special tokens (here just <s> or [\"SEP\"]/[\"CLS\"])\n",
    "\n",
    "LineByLineTextDataset: reads each line separately, tokenizes and truncates the lines to block_size. Adds special tokens.\n",
    "\n",
    "use TextDataset because --line-by-line will throw away a lot of data if not used correctly."
   ]
  },
  {
   "cell_type": "code",
   "execution_count": 9,
   "metadata": {
    "colab": {
     "base_uri": "https://localhost:8080/"
    },
    "executionInfo": {
     "elapsed": 23204,
     "status": "ok",
     "timestamp": 1619470541796,
     "user": {
      "displayName": "Daniel Díez",
      "photoUrl": "https://lh3.googleusercontent.com/a-/AOh14GhLEy0o7LWx6R7BMbWyhyGTGiCURLs_CtPEbpxL8P4=s64",
      "userId": "04428453110580774456"
     },
     "user_tz": -120
    },
    "id": "GlvP_A-THEEl",
    "outputId": "e0fe0c87-ad71-46c0-b42b-1b5b0d476e25"
   },
   "outputs": [
    {
     "name": "stderr",
     "output_type": "stream",
     "text": [
      "/home/ddiezmallo/Projects/euBERTus/.pyvenv/lib/python3.7/site-packages/transformers/data/datasets/language_modeling.py:58: FutureWarning: This dataset will be removed from the library soon, preprocessing should be handled with the 🤗 Datasets library. You can have a look at this example script for pointers: https://github.com/huggingface/transformers/blob/master/examples/language-modeling/run_mlm.py\n",
      "  FutureWarning,\n"
     ]
    },
    {
     "name": "stdout",
     "output_type": "stream",
     "text": [
      "26388\n",
      "CPU times: user 1min 10s, sys: 685 ms, total: 1min 10s\n",
      "Wall time: 1min 10s\n"
     ]
    }
   ],
   "source": [
    "%%time\n",
    "from transformers import TextDataset\n",
    "\n",
    "dataset = TextDataset(\n",
    "    tokenizer=tokenizer,\n",
    "    file_path=\"../data/02_preprocessed/full_eu_text.txt\",\n",
    "    block_size=128,\n",
    ")\n",
    "print(len(dataset))"
   ]
  },
  {
   "cell_type": "code",
   "execution_count": 10,
   "metadata": {
    "colab": {
     "base_uri": "https://localhost:8080/"
    },
    "executionInfo": {
     "elapsed": 23414,
     "status": "ok",
     "timestamp": 1619470542011,
     "user": {
      "displayName": "Daniel Díez",
      "photoUrl": "https://lh3.googleusercontent.com/a-/AOh14GhLEy0o7LWx6R7BMbWyhyGTGiCURLs_CtPEbpxL8P4=s64",
      "userId": "04428453110580774456"
     },
     "user_tz": -120
    },
    "id": "raCoMBu2kZ4h",
    "outputId": "58158388-8ff4-4419-c241-35cb57b362b2"
   },
   "outputs": [
    {
     "name": "stdout",
     "output_type": "stream",
     "text": [
      "<class 'list'> <class 'list'>\n",
      "21110 5278\n"
     ]
    }
   ],
   "source": [
    "from sklearn.model_selection import train_test_split\n",
    "train_dataset, test_dataset = train_test_split(dataset, test_size=0.2, random_state=42)\n",
    "print(type(train_dataset), type(test_dataset))\n",
    "print(len(train_dataset), len(test_dataset))"
   ]
  },
  {
   "cell_type": "markdown",
   "metadata": {
    "id": "hDLs73HcIHk5"
   },
   "source": [
    "#### Data collator\n",
    "[Data collators](https://huggingface.co/transformers/master/main_classes/data_collator.html) are objects that will form a batch by using a list of dataset elements as input. These elements are of the same type as the elements of train_dataset or eval_dataset. This is just a small helper that will help us batch different samples of the dataset together into an object that PyTorch knows how to perform backprop on.\n",
    "\n",
    "[DataCollatorForLanguageModeling](https://huggingface.co/transformers/master/main_classes/data_collator.html#datacollatorforlanguagemodeling): Data collator used for language modeling. Inputs are dynamically padded to the maximum length of a batch if they are not all of the same length.\n",
    "\n",
    "For best performance, this data collator should be used with a dataset having items that are dictionaries or BatchEncoding, with the \"special_tokens_mask\" key, as returned by a PreTrainedTokenizer or a PreTrainedTokenizerFast with the argument return_special_tokens_mask=True."
   ]
  },
  {
   "cell_type": "code",
   "execution_count": 11,
   "metadata": {
    "executionInfo": {
     "elapsed": 23415,
     "status": "ok",
     "timestamp": 1619470542012,
     "user": {
      "displayName": "Daniel Díez",
      "photoUrl": "https://lh3.googleusercontent.com/a-/AOh14GhLEy0o7LWx6R7BMbWyhyGTGiCURLs_CtPEbpxL8P4=s64",
      "userId": "04428453110580774456"
     },
     "user_tz": -120
    },
    "id": "zTgWPa9Dipk2"
   },
   "outputs": [],
   "source": [
    "from transformers import DataCollatorForLanguageModeling\n",
    "\n",
    "data_collator = DataCollatorForLanguageModeling(\n",
    "    tokenizer=tokenizer, #The tokenizer used for encoding the data.\n",
    "    mlm=True, #Whether or not to use masked language modeling. The labels are -100 for non-masked tokens and the value to predict for the masked token.\n",
    "    mlm_probability=0.15 #The probability with which to (randomly) mask tokens in the input, when mlm is set to True\n",
    ")"
   ]
  },
  {
   "cell_type": "markdown",
   "metadata": {
    "id": "QvmDL5tFzaz6"
   },
   "source": [
    "#### Train the model using the gird search\n",
    "First the parameters to perform the search over the training are defined"
   ]
  },
  {
   "cell_type": "code",
   "execution_count": 12,
   "metadata": {
    "executionInfo": {
     "elapsed": 23634,
     "status": "ok",
     "timestamp": 1619470542233,
     "user": {
      "displayName": "Daniel Díez",
      "photoUrl": "https://lh3.googleusercontent.com/a-/AOh14GhLEy0o7LWx6R7BMbWyhyGTGiCURLs_CtPEbpxL8P4=s64",
      "userId": "04428453110580774456"
     },
     "user_tz": -120
    },
    "id": "JVBm-tO1x6Eu"
   },
   "outputs": [],
   "source": [
    "param_grid = dict(\n",
    "            output_dir=[\"../data/03_models/trainer/\"],\n",
    "            overwrite_output_dir=[True],\n",
    "            num_train_epochs=[3],\n",
    "            learning_rate=[2e-5, 3e-5, 5e-5],\n",
    "            weight_decay=[0.01, 0.005],\n",
    "            per_device_train_batch_size=[16],\n",
    "            per_device_eval_batch_size=[32],\n",
    "            save_steps=[0],\n",
    "            warmup_steps=[0],\n",
    "            save_total_limit=[1],\n",
    "            prediction_loss_only=[True],\n",
    "            eval_accumulation_steps=[1]\n",
    "            )"
   ]
  },
  {
   "cell_type": "markdown",
   "metadata": {
    "id": "Xg_cKG1D0M6p"
   },
   "source": [
    "Then the model is trained"
   ]
  },
  {
   "cell_type": "code",
   "execution_count": 13,
   "metadata": {
    "colab": {
     "base_uri": "https://localhost:8080/",
     "height": 546
    },
    "executionInfo": {
     "elapsed": 3260679,
     "status": "ok",
     "timestamp": 1619473779284,
     "user": {
      "displayName": "Daniel Díez",
      "photoUrl": "https://lh3.googleusercontent.com/a-/AOh14GhLEy0o7LWx6R7BMbWyhyGTGiCURLs_CtPEbpxL8P4=s64",
      "userId": "04428453110580774456"
     },
     "user_tz": -120
    },
    "id": "UUGRYmQU0MJM",
    "outputId": "fbb9b6a4-5def-4659-bbbc-3fd7bec60ea4"
   },
   "outputs": [
    {
     "name": "stdout",
     "output_type": "stream",
     "text": [
      "- Starting grid search, totalling 6 jobs -\n",
      "  - Training model {'output_dir': '../data/03_models/trainer/', 'overwrite_output_dir': True, 'num_train_epochs': 3, 'learning_rate': 2e-05, 'weight_decay': 0.01, 'per_device_train_batch_size': 16, 'per_device_eval_batch_size': 32, 'save_steps': 0, 'warmup_steps': 0, 'save_total_limit': 1, 'prediction_loss_only': True, 'eval_accumulation_steps': 1, 'eval_steps': 1320}\n"
     ]
    },
    {
     "data": {
      "text/html": [
       "\n",
       "    <div>\n",
       "        <style>\n",
       "            /* Turns off some styling */\n",
       "            progress {\n",
       "                /* gets rid of default border in Firefox and Opera. */\n",
       "                border: none;\n",
       "                /* Needs to be in here for Safari polyfill so background images work as expected. */\n",
       "                background-size: auto;\n",
       "            }\n",
       "        </style>\n",
       "      \n",
       "      <progress value='3366' max='3366' style='width:300px; height:20px; vertical-align: middle;'></progress>\n",
       "      [3366/3366 21:47, Epoch 3/3]\n",
       "    </div>\n",
       "    <table border=\"1\" class=\"dataframe\">\n",
       "  <thead>\n",
       "    <tr style=\"text-align: left;\">\n",
       "      <th>Step</th>\n",
       "      <th>Training Loss</th>\n",
       "    </tr>\n",
       "  </thead>\n",
       "  <tbody>\n",
       "    <tr>\n",
       "      <td>500</td>\n",
       "      <td>2.313900</td>\n",
       "    </tr>\n",
       "    <tr>\n",
       "      <td>1000</td>\n",
       "      <td>2.125000</td>\n",
       "    </tr>\n",
       "    <tr>\n",
       "      <td>1500</td>\n",
       "      <td>2.044300</td>\n",
       "    </tr>\n",
       "    <tr>\n",
       "      <td>2000</td>\n",
       "      <td>1.990300</td>\n",
       "    </tr>\n",
       "    <tr>\n",
       "      <td>2500</td>\n",
       "      <td>1.945200</td>\n",
       "    </tr>\n",
       "    <tr>\n",
       "      <td>3000</td>\n",
       "      <td>1.913500</td>\n",
       "    </tr>\n",
       "  </tbody>\n",
       "</table><p>"
      ],
      "text/plain": [
       "<IPython.core.display.HTML object>"
      ]
     },
     "metadata": {},
     "output_type": "display_data"
    },
    {
     "data": {
      "text/html": [
       "\n",
       "    <div>\n",
       "        <style>\n",
       "            /* Turns off some styling */\n",
       "            progress {\n",
       "                /* gets rid of default border in Firefox and Opera. */\n",
       "                border: none;\n",
       "                /* Needs to be in here for Safari polyfill so background images work as expected. */\n",
       "                background-size: auto;\n",
       "            }\n",
       "        </style>\n",
       "      \n",
       "      <progress value='99' max='99' style='width:300px; height:20px; vertical-align: middle;'></progress>\n",
       "      [99/99 00:24]\n",
       "    </div>\n",
       "    "
      ],
      "text/plain": [
       "<IPython.core.display.HTML object>"
      ]
     },
     "metadata": {},
     "output_type": "display_data"
    },
    {
     "name": "stdout",
     "output_type": "stream",
     "text": [
      "------ - Perplexity: 6.09 | Fitted 1 jobs out of 6. Elapsed 00:22:18 ------\n",
      "  - Training model {'output_dir': '../data/03_models/trainer/', 'overwrite_output_dir': True, 'num_train_epochs': 3, 'learning_rate': 2e-05, 'weight_decay': 0.005, 'per_device_train_batch_size': 16, 'per_device_eval_batch_size': 32, 'save_steps': 0, 'warmup_steps': 0, 'save_total_limit': 1, 'prediction_loss_only': True, 'eval_accumulation_steps': 1, 'eval_steps': 1320}\n"
     ]
    },
    {
     "data": {
      "text/html": [
       "\n",
       "    <div>\n",
       "        <style>\n",
       "            /* Turns off some styling */\n",
       "            progress {\n",
       "                /* gets rid of default border in Firefox and Opera. */\n",
       "                border: none;\n",
       "                /* Needs to be in here for Safari polyfill so background images work as expected. */\n",
       "                background-size: auto;\n",
       "            }\n",
       "        </style>\n",
       "      \n",
       "      <progress value='3366' max='3366' style='width:300px; height:20px; vertical-align: middle;'></progress>\n",
       "      [3366/3366 21:50, Epoch 3/3]\n",
       "    </div>\n",
       "    <table border=\"1\" class=\"dataframe\">\n",
       "  <thead>\n",
       "    <tr style=\"text-align: left;\">\n",
       "      <th>Step</th>\n",
       "      <th>Training Loss</th>\n",
       "    </tr>\n",
       "  </thead>\n",
       "  <tbody>\n",
       "    <tr>\n",
       "      <td>500</td>\n",
       "      <td>1.660200</td>\n",
       "    </tr>\n",
       "    <tr>\n",
       "      <td>1000</td>\n",
       "      <td>1.652900</td>\n",
       "    </tr>\n",
       "    <tr>\n",
       "      <td>1500</td>\n",
       "      <td>1.664200</td>\n",
       "    </tr>\n",
       "    <tr>\n",
       "      <td>2000</td>\n",
       "      <td>1.684900</td>\n",
       "    </tr>\n",
       "    <tr>\n",
       "      <td>2500</td>\n",
       "      <td>1.701500</td>\n",
       "    </tr>\n",
       "    <tr>\n",
       "      <td>3000</td>\n",
       "      <td>1.726700</td>\n",
       "    </tr>\n",
       "  </tbody>\n",
       "</table><p>"
      ],
      "text/plain": [
       "<IPython.core.display.HTML object>"
      ]
     },
     "metadata": {},
     "output_type": "display_data"
    },
    {
     "data": {
      "text/html": [
       "\n",
       "    <div>\n",
       "        <style>\n",
       "            /* Turns off some styling */\n",
       "            progress {\n",
       "                /* gets rid of default border in Firefox and Opera. */\n",
       "                border: none;\n",
       "                /* Needs to be in here for Safari polyfill so background images work as expected. */\n",
       "                background-size: auto;\n",
       "            }\n",
       "        </style>\n",
       "      \n",
       "      <progress value='99' max='99' style='width:300px; height:20px; vertical-align: middle;'></progress>\n",
       "      [99/99 00:24]\n",
       "    </div>\n",
       "    "
      ],
      "text/plain": [
       "<IPython.core.display.HTML object>"
      ]
     },
     "metadata": {},
     "output_type": "display_data"
    },
    {
     "name": "stdout",
     "output_type": "stream",
     "text": [
      "------ - Perplexity: 5.50 | Fitted 2 jobs out of 6. Elapsed 00:44:34 ------\n",
      "  - Training model {'output_dir': '../data/03_models/trainer/', 'overwrite_output_dir': True, 'num_train_epochs': 3, 'learning_rate': 3e-05, 'weight_decay': 0.01, 'per_device_train_batch_size': 16, 'per_device_eval_batch_size': 32, 'save_steps': 0, 'warmup_steps': 0, 'save_total_limit': 1, 'prediction_loss_only': True, 'eval_accumulation_steps': 1, 'eval_steps': 1320}\n"
     ]
    },
    {
     "data": {
      "text/html": [
       "\n",
       "    <div>\n",
       "        <style>\n",
       "            /* Turns off some styling */\n",
       "            progress {\n",
       "                /* gets rid of default border in Firefox and Opera. */\n",
       "                border: none;\n",
       "                /* Needs to be in here for Safari polyfill so background images work as expected. */\n",
       "                background-size: auto;\n",
       "            }\n",
       "        </style>\n",
       "      \n",
       "      <progress value='3366' max='3366' style='width:300px; height:20px; vertical-align: middle;'></progress>\n",
       "      [3366/3366 21:50, Epoch 3/3]\n",
       "    </div>\n",
       "    <table border=\"1\" class=\"dataframe\">\n",
       "  <thead>\n",
       "    <tr style=\"text-align: left;\">\n",
       "      <th>Step</th>\n",
       "      <th>Training Loss</th>\n",
       "    </tr>\n",
       "  </thead>\n",
       "  <tbody>\n",
       "    <tr>\n",
       "      <td>500</td>\n",
       "      <td>1.293200</td>\n",
       "    </tr>\n",
       "    <tr>\n",
       "      <td>1000</td>\n",
       "      <td>1.347200</td>\n",
       "    </tr>\n",
       "    <tr>\n",
       "      <td>1500</td>\n",
       "      <td>1.403900</td>\n",
       "    </tr>\n",
       "    <tr>\n",
       "      <td>2000</td>\n",
       "      <td>1.472000</td>\n",
       "    </tr>\n",
       "    <tr>\n",
       "      <td>2500</td>\n",
       "      <td>1.532600</td>\n",
       "    </tr>\n",
       "    <tr>\n",
       "      <td>3000</td>\n",
       "      <td>1.596900</td>\n",
       "    </tr>\n",
       "  </tbody>\n",
       "</table><p>"
      ],
      "text/plain": [
       "<IPython.core.display.HTML object>"
      ]
     },
     "metadata": {},
     "output_type": "display_data"
    },
    {
     "data": {
      "text/html": [
       "\n",
       "    <div>\n",
       "        <style>\n",
       "            /* Turns off some styling */\n",
       "            progress {\n",
       "                /* gets rid of default border in Firefox and Opera. */\n",
       "                border: none;\n",
       "                /* Needs to be in here for Safari polyfill so background images work as expected. */\n",
       "                background-size: auto;\n",
       "            }\n",
       "        </style>\n",
       "      \n",
       "      <progress value='99' max='99' style='width:300px; height:20px; vertical-align: middle;'></progress>\n",
       "      [99/99 00:24]\n",
       "    </div>\n",
       "    "
      ],
      "text/plain": [
       "<IPython.core.display.HTML object>"
      ]
     },
     "metadata": {},
     "output_type": "display_data"
    },
    {
     "name": "stdout",
     "output_type": "stream",
     "text": [
      "------ - Perplexity: 5.17 | Fitted 3 jobs out of 6. Elapsed 01:06:50 ------\n",
      "  - Training model {'output_dir': '../data/03_models/trainer/', 'overwrite_output_dir': True, 'num_train_epochs': 3, 'learning_rate': 3e-05, 'weight_decay': 0.005, 'per_device_train_batch_size': 16, 'per_device_eval_batch_size': 32, 'save_steps': 0, 'warmup_steps': 0, 'save_total_limit': 1, 'prediction_loss_only': True, 'eval_accumulation_steps': 1, 'eval_steps': 1320}\n"
     ]
    },
    {
     "data": {
      "text/html": [
       "\n",
       "    <div>\n",
       "        <style>\n",
       "            /* Turns off some styling */\n",
       "            progress {\n",
       "                /* gets rid of default border in Firefox and Opera. */\n",
       "                border: none;\n",
       "                /* Needs to be in here for Safari polyfill so background images work as expected. */\n",
       "                background-size: auto;\n",
       "            }\n",
       "        </style>\n",
       "      \n",
       "      <progress value='3366' max='3366' style='width:300px; height:20px; vertical-align: middle;'></progress>\n",
       "      [3366/3366 21:50, Epoch 3/3]\n",
       "    </div>\n",
       "    <table border=\"1\" class=\"dataframe\">\n",
       "  <thead>\n",
       "    <tr style=\"text-align: left;\">\n",
       "      <th>Step</th>\n",
       "      <th>Training Loss</th>\n",
       "    </tr>\n",
       "  </thead>\n",
       "  <tbody>\n",
       "    <tr>\n",
       "      <td>500</td>\n",
       "      <td>0.841400</td>\n",
       "    </tr>\n",
       "    <tr>\n",
       "      <td>1000</td>\n",
       "      <td>0.943100</td>\n",
       "    </tr>\n",
       "    <tr>\n",
       "      <td>1500</td>\n",
       "      <td>1.058000</td>\n",
       "    </tr>\n",
       "    <tr>\n",
       "      <td>2000</td>\n",
       "      <td>1.198400</td>\n",
       "    </tr>\n",
       "    <tr>\n",
       "      <td>2500</td>\n",
       "      <td>1.335500</td>\n",
       "    </tr>\n",
       "    <tr>\n",
       "      <td>3000</td>\n",
       "      <td>1.477200</td>\n",
       "    </tr>\n",
       "  </tbody>\n",
       "</table><p>"
      ],
      "text/plain": [
       "<IPython.core.display.HTML object>"
      ]
     },
     "metadata": {},
     "output_type": "display_data"
    },
    {
     "data": {
      "text/html": [
       "\n",
       "    <div>\n",
       "        <style>\n",
       "            /* Turns off some styling */\n",
       "            progress {\n",
       "                /* gets rid of default border in Firefox and Opera. */\n",
       "                border: none;\n",
       "                /* Needs to be in here for Safari polyfill so background images work as expected. */\n",
       "                background-size: auto;\n",
       "            }\n",
       "        </style>\n",
       "      \n",
       "      <progress value='99' max='99' style='width:300px; height:20px; vertical-align: middle;'></progress>\n",
       "      [99/99 00:24]\n",
       "    </div>\n",
       "    "
      ],
      "text/plain": [
       "<IPython.core.display.HTML object>"
      ]
     },
     "metadata": {},
     "output_type": "display_data"
    },
    {
     "name": "stdout",
     "output_type": "stream",
     "text": [
      "------ - Perplexity: 5.10 | Fitted 4 jobs out of 6. Elapsed 01:29:06 ------\n",
      "  - Training model {'output_dir': '../data/03_models/trainer/', 'overwrite_output_dir': True, 'num_train_epochs': 3, 'learning_rate': 5e-05, 'weight_decay': 0.01, 'per_device_train_batch_size': 16, 'per_device_eval_batch_size': 32, 'save_steps': 0, 'warmup_steps': 0, 'save_total_limit': 1, 'prediction_loss_only': True, 'eval_accumulation_steps': 1, 'eval_steps': 1320}\n"
     ]
    },
    {
     "data": {
      "text/html": [
       "\n",
       "    <div>\n",
       "        <style>\n",
       "            /* Turns off some styling */\n",
       "            progress {\n",
       "                /* gets rid of default border in Firefox and Opera. */\n",
       "                border: none;\n",
       "                /* Needs to be in here for Safari polyfill so background images work as expected. */\n",
       "                background-size: auto;\n",
       "            }\n",
       "        </style>\n",
       "      \n",
       "      <progress value='3366' max='3366' style='width:300px; height:20px; vertical-align: middle;'></progress>\n",
       "      [3366/3366 21:50, Epoch 3/3]\n",
       "    </div>\n",
       "    <table border=\"1\" class=\"dataframe\">\n",
       "  <thead>\n",
       "    <tr style=\"text-align: left;\">\n",
       "      <th>Step</th>\n",
       "      <th>Training Loss</th>\n",
       "    </tr>\n",
       "  </thead>\n",
       "  <tbody>\n",
       "    <tr>\n",
       "      <td>500</td>\n",
       "      <td>0.521200</td>\n",
       "    </tr>\n",
       "    <tr>\n",
       "      <td>1000</td>\n",
       "      <td>0.665600</td>\n",
       "    </tr>\n",
       "    <tr>\n",
       "      <td>1500</td>\n",
       "      <td>0.818400</td>\n",
       "    </tr>\n",
       "    <tr>\n",
       "      <td>2000</td>\n",
       "      <td>1.011500</td>\n",
       "    </tr>\n",
       "    <tr>\n",
       "      <td>2500</td>\n",
       "      <td>1.201400</td>\n",
       "    </tr>\n",
       "    <tr>\n",
       "      <td>3000</td>\n",
       "      <td>1.397200</td>\n",
       "    </tr>\n",
       "  </tbody>\n",
       "</table><p>"
      ],
      "text/plain": [
       "<IPython.core.display.HTML object>"
      ]
     },
     "metadata": {},
     "output_type": "display_data"
    },
    {
     "data": {
      "text/html": [
       "\n",
       "    <div>\n",
       "        <style>\n",
       "            /* Turns off some styling */\n",
       "            progress {\n",
       "                /* gets rid of default border in Firefox and Opera. */\n",
       "                border: none;\n",
       "                /* Needs to be in here for Safari polyfill so background images work as expected. */\n",
       "                background-size: auto;\n",
       "            }\n",
       "        </style>\n",
       "      \n",
       "      <progress value='99' max='99' style='width:300px; height:20px; vertical-align: middle;'></progress>\n",
       "      [99/99 00:24]\n",
       "    </div>\n",
       "    "
      ],
      "text/plain": [
       "<IPython.core.display.HTML object>"
      ]
     },
     "metadata": {},
     "output_type": "display_data"
    },
    {
     "name": "stdout",
     "output_type": "stream",
     "text": [
      "------ - Perplexity: 5.09 | Fitted 5 jobs out of 6. Elapsed 01:51:21 ------\n",
      "  - Training model {'output_dir': '../data/03_models/trainer/', 'overwrite_output_dir': True, 'num_train_epochs': 3, 'learning_rate': 5e-05, 'weight_decay': 0.005, 'per_device_train_batch_size': 16, 'per_device_eval_batch_size': 32, 'save_steps': 0, 'warmup_steps': 0, 'save_total_limit': 1, 'prediction_loss_only': True, 'eval_accumulation_steps': 1, 'eval_steps': 1320}\n"
     ]
    },
    {
     "data": {
      "text/html": [
       "\n",
       "    <div>\n",
       "        <style>\n",
       "            /* Turns off some styling */\n",
       "            progress {\n",
       "                /* gets rid of default border in Firefox and Opera. */\n",
       "                border: none;\n",
       "                /* Needs to be in here for Safari polyfill so background images work as expected. */\n",
       "                background-size: auto;\n",
       "            }\n",
       "        </style>\n",
       "      \n",
       "      <progress value='3366' max='3366' style='width:300px; height:20px; vertical-align: middle;'></progress>\n",
       "      [3366/3366 21:50, Epoch 3/3]\n",
       "    </div>\n",
       "    <table border=\"1\" class=\"dataframe\">\n",
       "  <thead>\n",
       "    <tr style=\"text-align: left;\">\n",
       "      <th>Step</th>\n",
       "      <th>Training Loss</th>\n",
       "    </tr>\n",
       "  </thead>\n",
       "  <tbody>\n",
       "    <tr>\n",
       "      <td>500</td>\n",
       "      <td>0.242100</td>\n",
       "    </tr>\n",
       "    <tr>\n",
       "      <td>1000</td>\n",
       "      <td>0.343000</td>\n",
       "    </tr>\n",
       "    <tr>\n",
       "      <td>1500</td>\n",
       "      <td>0.470800</td>\n",
       "    </tr>\n",
       "    <tr>\n",
       "      <td>2000</td>\n",
       "      <td>0.681400</td>\n",
       "    </tr>\n",
       "    <tr>\n",
       "      <td>2500</td>\n",
       "      <td>0.945200</td>\n",
       "    </tr>\n",
       "    <tr>\n",
       "      <td>3000</td>\n",
       "      <td>1.258400</td>\n",
       "    </tr>\n",
       "  </tbody>\n",
       "</table><p>"
      ],
      "text/plain": [
       "<IPython.core.display.HTML object>"
      ]
     },
     "metadata": {},
     "output_type": "display_data"
    },
    {
     "data": {
      "text/html": [
       "\n",
       "    <div>\n",
       "        <style>\n",
       "            /* Turns off some styling */\n",
       "            progress {\n",
       "                /* gets rid of default border in Firefox and Opera. */\n",
       "                border: none;\n",
       "                /* Needs to be in here for Safari polyfill so background images work as expected. */\n",
       "                background-size: auto;\n",
       "            }\n",
       "        </style>\n",
       "      \n",
       "      <progress value='99' max='99' style='width:300px; height:20px; vertical-align: middle;'></progress>\n",
       "      [99/99 00:24]\n",
       "    </div>\n",
       "    "
      ],
      "text/plain": [
       "<IPython.core.display.HTML object>"
      ]
     },
     "metadata": {},
     "output_type": "display_data"
    },
    {
     "name": "stdout",
     "output_type": "stream",
     "text": [
      "------ - Perplexity: 5.26 | Fitted 6 jobs out of 6. Elapsed 02:13:37 ------\n",
      "--- Ending grid search, totalling 6 jobs. Elapsed 02:13:37 ---\n"
     ]
    }
   ],
   "source": [
    "eu_models_params, eu_scores = grid_search_for_language_modeling(\n",
    "                    baseline_model=model,\n",
    "                    param_grid=param_grid,\n",
    "                    n_combinations=None,\n",
    "                    X=train_dataset,\n",
    "                    data_collator=data_collator,\n",
    "                    model_name='eu_bert_model',\n",
    "                    out_dir='../data/03_models/',\n",
    "                    tmp_dir='../data/03_models/tmp/'\n",
    "                    )\n",
    "\n",
    "import pickle\n",
    "pickle.dump(eu_models_params, open('../data/03_models/eu_models_params.p', 'wb'))\n",
    "pickle.dump(eu_scores, open('../data/03_models/eu_scores.p', 'wb'))"
   ]
  },
  {
   "cell_type": "markdown",
   "metadata": {
    "id": "95h0iZVF0PDq"
   },
   "source": [
    "We evaluate the results obtained in training"
   ]
  },
  {
   "cell_type": "code",
   "execution_count": 14,
   "metadata": {
    "colab": {
     "base_uri": "https://localhost:8080/"
    },
    "executionInfo": {
     "elapsed": 3260679,
     "status": "ok",
     "timestamp": 1619473779288,
     "user": {
      "displayName": "Daniel Díez",
      "photoUrl": "https://lh3.googleusercontent.com/a-/AOh14GhLEy0o7LWx6R7BMbWyhyGTGiCURLs_CtPEbpxL8P4=s64",
      "userId": "04428453110580774456"
     },
     "user_tz": -120
    },
    "id": "FL1TjxvpFKTE",
    "outputId": "ed876c8d-0ed6-4759-ce11-033ee783697c"
   },
   "outputs": [
    {
     "name": "stdout",
     "output_type": "stream",
     "text": [
      "- Training results: \n",
      "  - Model Perplexity: 6.09 | Params: {'output_dir': '../data/03_models/trainer/', 'overwrite_output_dir': True, 'num_train_epochs': 3, 'learning_rate': 2e-05, 'weight_decay': 0.01, 'per_device_train_batch_size': 16, 'per_device_eval_batch_size': 32, 'save_steps': 0, 'warmup_steps': 0, 'save_total_limit': 1, 'prediction_loss_only': True, 'eval_accumulation_steps': 1, 'eval_steps': 1320}\n",
      "  - Model Perplexity: 5.50 | Params: {'output_dir': '../data/03_models/trainer/', 'overwrite_output_dir': True, 'num_train_epochs': 3, 'learning_rate': 2e-05, 'weight_decay': 0.005, 'per_device_train_batch_size': 16, 'per_device_eval_batch_size': 32, 'save_steps': 0, 'warmup_steps': 0, 'save_total_limit': 1, 'prediction_loss_only': True, 'eval_accumulation_steps': 1, 'eval_steps': 1320}\n",
      "  - Model Perplexity: 5.17 | Params: {'output_dir': '../data/03_models/trainer/', 'overwrite_output_dir': True, 'num_train_epochs': 3, 'learning_rate': 3e-05, 'weight_decay': 0.01, 'per_device_train_batch_size': 16, 'per_device_eval_batch_size': 32, 'save_steps': 0, 'warmup_steps': 0, 'save_total_limit': 1, 'prediction_loss_only': True, 'eval_accumulation_steps': 1, 'eval_steps': 1320}\n",
      "  - Model Perplexity: 5.10 | Params: {'output_dir': '../data/03_models/trainer/', 'overwrite_output_dir': True, 'num_train_epochs': 3, 'learning_rate': 3e-05, 'weight_decay': 0.005, 'per_device_train_batch_size': 16, 'per_device_eval_batch_size': 32, 'save_steps': 0, 'warmup_steps': 0, 'save_total_limit': 1, 'prediction_loss_only': True, 'eval_accumulation_steps': 1, 'eval_steps': 1320}\n",
      "  - Model Perplexity: 5.09 | Params: {'output_dir': '../data/03_models/trainer/', 'overwrite_output_dir': True, 'num_train_epochs': 3, 'learning_rate': 5e-05, 'weight_decay': 0.01, 'per_device_train_batch_size': 16, 'per_device_eval_batch_size': 32, 'save_steps': 0, 'warmup_steps': 0, 'save_total_limit': 1, 'prediction_loss_only': True, 'eval_accumulation_steps': 1, 'eval_steps': 1320}\n",
      "  - Model Perplexity: 5.26 | Params: {'output_dir': '../data/03_models/trainer/', 'overwrite_output_dir': True, 'num_train_epochs': 3, 'learning_rate': 5e-05, 'weight_decay': 0.005, 'per_device_train_batch_size': 16, 'per_device_eval_batch_size': 32, 'save_steps': 0, 'warmup_steps': 0, 'save_total_limit': 1, 'prediction_loss_only': True, 'eval_accumulation_steps': 1, 'eval_steps': 1320}\n"
     ]
    }
   ],
   "source": [
    "print('- Training results: ')\n",
    "for model_params, score in zip(eu_models_params, eu_scores):\n",
    "    print(f'  - Model Perplexity: {score:.2f} | Params: {model_params}')"
   ]
  },
  {
   "cell_type": "markdown",
   "metadata": {
    "id": "lIuGliaX0R8o"
   },
   "source": [
    "And finally evaluate the results of the final best found model"
   ]
  },
  {
   "cell_type": "code",
   "execution_count": 15,
   "metadata": {
    "colab": {
     "base_uri": "https://localhost:8080/",
     "height": 55
    },
    "executionInfo": {
     "elapsed": 3332591,
     "status": "ok",
     "timestamp": 1619473851204,
     "user": {
      "displayName": "Daniel Díez",
      "photoUrl": "https://lh3.googleusercontent.com/a-/AOh14GhLEy0o7LWx6R7BMbWyhyGTGiCURLs_CtPEbpxL8P4=s64",
      "userId": "04428453110580774456"
     },
     "user_tz": -120
    },
    "id": "19ExhJ-uDjhd",
    "outputId": "ebc11214-b156-43ce-8dda-6a94ca48b0a0"
   },
   "outputs": [
    {
     "data": {
      "text/html": [
       "\n",
       "    <div>\n",
       "        <style>\n",
       "            /* Turns off some styling */\n",
       "            progress {\n",
       "                /* gets rid of default border in Firefox and Opera. */\n",
       "                border: none;\n",
       "                /* Needs to be in here for Safari polyfill so background images work as expected. */\n",
       "                background-size: auto;\n",
       "            }\n",
       "        </style>\n",
       "      \n",
       "      <progress value='660' max='660' style='width:300px; height:20px; vertical-align: middle;'></progress>\n",
       "      [660/660 00:40]\n",
       "    </div>\n",
       "    "
      ],
      "text/plain": [
       "<IPython.core.display.HTML object>"
      ]
     },
     "metadata": {},
     "output_type": "display_data"
    },
    {
     "name": "stdout",
     "output_type": "stream",
     "text": [
      " Best model perplexity on test: 5.09\n"
     ]
    }
   ],
   "source": [
    "model=AutoModelForMaskedLM.from_pretrained(\"../data/03_models/eu_bert_model\")\n",
    "trainer = Trainer(\n",
    "                    model=model,\n",
    "                    eval_dataset=test_dataset,\n",
    "                    data_collator=data_collator,\n",
    "                        )\n",
    "eval_results = trainer.evaluate()\n",
    "print(f\" Best model perplexity on test: {math.exp(eval_results['eval_loss']):.2f}\")"
   ]
  },
  {
   "cell_type": "markdown",
   "metadata": {
    "id": "x4no1YBo0ctS"
   },
   "source": [
    "### 2.2 Model training on United States COVID texts\n",
    "The same steps are followed for the US data model as for the European model. New training parameters need to be found as the datasets differ in size.\n"
   ]
  },
  {
   "cell_type": "markdown",
   "metadata": {
    "id": "-jjFh3w_0ctT"
   },
   "source": [
    "#### Dataset build"
   ]
  },
  {
   "cell_type": "code",
   "execution_count": 16,
   "metadata": {
    "colab": {
     "base_uri": "https://localhost:8080/"
    },
    "executionInfo": {
     "elapsed": 3332984,
     "status": "ok",
     "timestamp": 1619473851601,
     "user": {
      "displayName": "Daniel Díez",
      "photoUrl": "https://lh3.googleusercontent.com/a-/AOh14GhLEy0o7LWx6R7BMbWyhyGTGiCURLs_CtPEbpxL8P4=s64",
      "userId": "04428453110580774456"
     },
     "user_tz": -120
    },
    "id": "riodkVMm0ctT",
    "outputId": "b56181dd-72da-4549-c2a2-c1265fa4131f"
   },
   "outputs": [
    {
     "name": "stdout",
     "output_type": "stream",
     "text": [
      "17103\n",
      "CPU times: user 39 s, sys: 458 ms, total: 39.5 s\n",
      "Wall time: 39.5 s\n"
     ]
    }
   ],
   "source": [
    "%%time\n",
    "from transformers import TextDataset\n",
    "from transformers import DistilBertTokenizer\n",
    "\n",
    "tokenizer = DistilBertTokenizer.from_pretrained('../data/03_models/tokenizer/')\n",
    "\n",
    "#tokenizer = DistilBertTokenizer.from_pretrained(model_checkpoint)\n",
    "#tokenizer.add_tokens(new_tokens)\n",
    "#tokenizer.save_pretrained('../data/03_models/tokenizer')\n",
    "\n",
    "dataset = TextDataset(\n",
    "    tokenizer=tokenizer,\n",
    "    file_path=\"../data/02_preprocessed/full_us_text.txt\",\n",
    "    block_size=128,\n",
    ")\n",
    "print(len(dataset))"
   ]
  },
  {
   "cell_type": "code",
   "execution_count": 17,
   "metadata": {
    "colab": {
     "base_uri": "https://localhost:8080/"
    },
    "executionInfo": {
     "elapsed": 3333185,
     "status": "ok",
     "timestamp": 1619473851805,
     "user": {
      "displayName": "Daniel Díez",
      "photoUrl": "https://lh3.googleusercontent.com/a-/AOh14GhLEy0o7LWx6R7BMbWyhyGTGiCURLs_CtPEbpxL8P4=s64",
      "userId": "04428453110580774456"
     },
     "user_tz": -120
    },
    "id": "Oxw6xgb10ctV",
    "outputId": "5ff75c84-12a2-4ab7-9287-8822520aaa1f"
   },
   "outputs": [
    {
     "name": "stdout",
     "output_type": "stream",
     "text": [
      "<class 'list'> <class 'list'>\n",
      "13682 3421\n"
     ]
    }
   ],
   "source": [
    "from sklearn.model_selection import train_test_split\n",
    "train_dataset, test_dataset = train_test_split(dataset, test_size=0.2, random_state=42)\n",
    "print(type(train_dataset), type(test_dataset))\n",
    "print(len(train_dataset), len(test_dataset))"
   ]
  },
  {
   "cell_type": "markdown",
   "metadata": {
    "id": "10hULcze0ctV"
   },
   "source": [
    "#### Data collator"
   ]
  },
  {
   "cell_type": "code",
   "execution_count": 18,
   "metadata": {
    "executionInfo": {
     "elapsed": 3333184,
     "status": "ok",
     "timestamp": 1619473851806,
     "user": {
      "displayName": "Daniel Díez",
      "photoUrl": "https://lh3.googleusercontent.com/a-/AOh14GhLEy0o7LWx6R7BMbWyhyGTGiCURLs_CtPEbpxL8P4=s64",
      "userId": "04428453110580774456"
     },
     "user_tz": -120
    },
    "id": "1myMCodM0ctV"
   },
   "outputs": [],
   "source": [
    "from transformers import DataCollatorForLanguageModeling\n",
    "\n",
    "data_collator = DataCollatorForLanguageModeling(\n",
    "    tokenizer=tokenizer, #The tokenizer used for encoding the data.\n",
    "    mlm=True, #Whether or not to use masked language modeling. The labels are -100 for non-masked tokens and the value to predict for the masked token.\n",
    "    mlm_probability=0.15 #The probability with which to (randomly) mask tokens in the input, when mlm is set to True\n",
    ")"
   ]
  },
  {
   "cell_type": "markdown",
   "metadata": {
    "id": "s5QcZ2xM0ctW"
   },
   "source": [
    "#### Train the model using the gird search"
   ]
  },
  {
   "cell_type": "markdown",
   "metadata": {
    "id": "aTR_UolW0ctW"
   },
   "source": [
    "The model is trained using the same parameters as before"
   ]
  },
  {
   "cell_type": "code",
   "execution_count": 19,
   "metadata": {
    "colab": {
     "base_uri": "https://localhost:8080/",
     "height": 546
    },
    "executionInfo": {
     "elapsed": 5374035,
     "status": "ok",
     "timestamp": 1619475892660,
     "user": {
      "displayName": "Daniel Díez",
      "photoUrl": "https://lh3.googleusercontent.com/a-/AOh14GhLEy0o7LWx6R7BMbWyhyGTGiCURLs_CtPEbpxL8P4=s64",
      "userId": "04428453110580774456"
     },
     "user_tz": -120
    },
    "id": "5RAuCt_u0ctW",
    "outputId": "85e4c163-b8c2-40df-dc82-bca59dbd3e54"
   },
   "outputs": [
    {
     "name": "stdout",
     "output_type": "stream",
     "text": [
      "- Starting grid search, totalling 6 jobs -\n",
      "  - Training model {'output_dir': '../data/03_models/trainer/', 'overwrite_output_dir': True, 'num_train_epochs': 3, 'learning_rate': 2e-05, 'weight_decay': 0.01, 'per_device_train_batch_size': 16, 'per_device_eval_batch_size': 32, 'save_steps': 0, 'warmup_steps': 0, 'save_total_limit': 1, 'prediction_loss_only': True, 'eval_accumulation_steps': 1, 'eval_steps': 856}\n"
     ]
    },
    {
     "data": {
      "text/html": [
       "\n",
       "    <div>\n",
       "        <style>\n",
       "            /* Turns off some styling */\n",
       "            progress {\n",
       "                /* gets rid of default border in Firefox and Opera. */\n",
       "                border: none;\n",
       "                /* Needs to be in here for Safari polyfill so background images work as expected. */\n",
       "                background-size: auto;\n",
       "            }\n",
       "        </style>\n",
       "      \n",
       "      <progress value='2181' max='2181' style='width:300px; height:20px; vertical-align: middle;'></progress>\n",
       "      [2181/2181 14:08, Epoch 3/3]\n",
       "    </div>\n",
       "    <table border=\"1\" class=\"dataframe\">\n",
       "  <thead>\n",
       "    <tr style=\"text-align: left;\">\n",
       "      <th>Step</th>\n",
       "      <th>Training Loss</th>\n",
       "    </tr>\n",
       "  </thead>\n",
       "  <tbody>\n",
       "    <tr>\n",
       "      <td>500</td>\n",
       "      <td>2.137500</td>\n",
       "    </tr>\n",
       "    <tr>\n",
       "      <td>1000</td>\n",
       "      <td>1.794300</td>\n",
       "    </tr>\n",
       "    <tr>\n",
       "      <td>1500</td>\n",
       "      <td>1.676000</td>\n",
       "    </tr>\n",
       "    <tr>\n",
       "      <td>2000</td>\n",
       "      <td>1.606200</td>\n",
       "    </tr>\n",
       "  </tbody>\n",
       "</table><p>"
      ],
      "text/plain": [
       "<IPython.core.display.HTML object>"
      ]
     },
     "metadata": {},
     "output_type": "display_data"
    },
    {
     "data": {
      "text/html": [
       "\n",
       "    <div>\n",
       "        <style>\n",
       "            /* Turns off some styling */\n",
       "            progress {\n",
       "                /* gets rid of default border in Firefox and Opera. */\n",
       "                border: none;\n",
       "                /* Needs to be in here for Safari polyfill so background images work as expected. */\n",
       "                background-size: auto;\n",
       "            }\n",
       "        </style>\n",
       "      \n",
       "      <progress value='65' max='65' style='width:300px; height:20px; vertical-align: middle;'></progress>\n",
       "      [65/65 00:15]\n",
       "    </div>\n",
       "    "
      ],
      "text/plain": [
       "<IPython.core.display.HTML object>"
      ]
     },
     "metadata": {},
     "output_type": "display_data"
    },
    {
     "name": "stdout",
     "output_type": "stream",
     "text": [
      "------ - Perplexity: 4.48 | Fitted 1 jobs out of 6. Elapsed 00:14:25 ------\n",
      "  - Training model {'output_dir': '../data/03_models/trainer/', 'overwrite_output_dir': True, 'num_train_epochs': 3, 'learning_rate': 2e-05, 'weight_decay': 0.005, 'per_device_train_batch_size': 16, 'per_device_eval_batch_size': 32, 'save_steps': 0, 'warmup_steps': 0, 'save_total_limit': 1, 'prediction_loss_only': True, 'eval_accumulation_steps': 1, 'eval_steps': 856}\n"
     ]
    },
    {
     "data": {
      "text/html": [
       "\n",
       "    <div>\n",
       "        <style>\n",
       "            /* Turns off some styling */\n",
       "            progress {\n",
       "                /* gets rid of default border in Firefox and Opera. */\n",
       "                border: none;\n",
       "                /* Needs to be in here for Safari polyfill so background images work as expected. */\n",
       "                background-size: auto;\n",
       "            }\n",
       "        </style>\n",
       "      \n",
       "      <progress value='2181' max='2181' style='width:300px; height:20px; vertical-align: middle;'></progress>\n",
       "      [2181/2181 14:09, Epoch 3/3]\n",
       "    </div>\n",
       "    <table border=\"1\" class=\"dataframe\">\n",
       "  <thead>\n",
       "    <tr style=\"text-align: left;\">\n",
       "      <th>Step</th>\n",
       "      <th>Training Loss</th>\n",
       "    </tr>\n",
       "  </thead>\n",
       "  <tbody>\n",
       "    <tr>\n",
       "      <td>500</td>\n",
       "      <td>1.391300</td>\n",
       "    </tr>\n",
       "    <tr>\n",
       "      <td>1000</td>\n",
       "      <td>1.360900</td>\n",
       "    </tr>\n",
       "    <tr>\n",
       "      <td>1500</td>\n",
       "      <td>1.371700</td>\n",
       "    </tr>\n",
       "    <tr>\n",
       "      <td>2000</td>\n",
       "      <td>1.395000</td>\n",
       "    </tr>\n",
       "  </tbody>\n",
       "</table><p>"
      ],
      "text/plain": [
       "<IPython.core.display.HTML object>"
      ]
     },
     "metadata": {},
     "output_type": "display_data"
    },
    {
     "data": {
      "text/html": [
       "\n",
       "    <div>\n",
       "        <style>\n",
       "            /* Turns off some styling */\n",
       "            progress {\n",
       "                /* gets rid of default border in Firefox and Opera. */\n",
       "                border: none;\n",
       "                /* Needs to be in here for Safari polyfill so background images work as expected. */\n",
       "                background-size: auto;\n",
       "            }\n",
       "        </style>\n",
       "      \n",
       "      <progress value='65' max='65' style='width:300px; height:20px; vertical-align: middle;'></progress>\n",
       "      [65/65 00:15]\n",
       "    </div>\n",
       "    "
      ],
      "text/plain": [
       "<IPython.core.display.HTML object>"
      ]
     },
     "metadata": {},
     "output_type": "display_data"
    },
    {
     "name": "stdout",
     "output_type": "stream",
     "text": [
      "------ - Perplexity: 3.94 | Fitted 2 jobs out of 6. Elapsed 00:28:51 ------\n",
      "  - Training model {'output_dir': '../data/03_models/trainer/', 'overwrite_output_dir': True, 'num_train_epochs': 3, 'learning_rate': 3e-05, 'weight_decay': 0.01, 'per_device_train_batch_size': 16, 'per_device_eval_batch_size': 32, 'save_steps': 0, 'warmup_steps': 0, 'save_total_limit': 1, 'prediction_loss_only': True, 'eval_accumulation_steps': 1, 'eval_steps': 856}\n"
     ]
    },
    {
     "data": {
      "text/html": [
       "\n",
       "    <div>\n",
       "        <style>\n",
       "            /* Turns off some styling */\n",
       "            progress {\n",
       "                /* gets rid of default border in Firefox and Opera. */\n",
       "                border: none;\n",
       "                /* Needs to be in here for Safari polyfill so background images work as expected. */\n",
       "                background-size: auto;\n",
       "            }\n",
       "        </style>\n",
       "      \n",
       "      <progress value='2181' max='2181' style='width:300px; height:20px; vertical-align: middle;'></progress>\n",
       "      [2181/2181 14:09, Epoch 3/3]\n",
       "    </div>\n",
       "    <table border=\"1\" class=\"dataframe\">\n",
       "  <thead>\n",
       "    <tr style=\"text-align: left;\">\n",
       "      <th>Step</th>\n",
       "      <th>Training Loss</th>\n",
       "    </tr>\n",
       "  </thead>\n",
       "  <tbody>\n",
       "    <tr>\n",
       "      <td>500</td>\n",
       "      <td>1.051100</td>\n",
       "    </tr>\n",
       "    <tr>\n",
       "      <td>1000</td>\n",
       "      <td>1.098200</td>\n",
       "    </tr>\n",
       "    <tr>\n",
       "      <td>1500</td>\n",
       "      <td>1.176500</td>\n",
       "    </tr>\n",
       "    <tr>\n",
       "      <td>2000</td>\n",
       "      <td>1.259100</td>\n",
       "    </tr>\n",
       "  </tbody>\n",
       "</table><p>"
      ],
      "text/plain": [
       "<IPython.core.display.HTML object>"
      ]
     },
     "metadata": {},
     "output_type": "display_data"
    },
    {
     "data": {
      "text/html": [
       "\n",
       "    <div>\n",
       "        <style>\n",
       "            /* Turns off some styling */\n",
       "            progress {\n",
       "                /* gets rid of default border in Firefox and Opera. */\n",
       "                border: none;\n",
       "                /* Needs to be in here for Safari polyfill so background images work as expected. */\n",
       "                background-size: auto;\n",
       "            }\n",
       "        </style>\n",
       "      \n",
       "      <progress value='65' max='65' style='width:300px; height:20px; vertical-align: middle;'></progress>\n",
       "      [65/65 00:15]\n",
       "    </div>\n",
       "    "
      ],
      "text/plain": [
       "<IPython.core.display.HTML object>"
      ]
     },
     "metadata": {},
     "output_type": "display_data"
    },
    {
     "name": "stdout",
     "output_type": "stream",
     "text": [
      "------ - Perplexity: 3.67 | Fitted 3 jobs out of 6. Elapsed 00:43:16 ------\n",
      "  - Training model {'output_dir': '../data/03_models/trainer/', 'overwrite_output_dir': True, 'num_train_epochs': 3, 'learning_rate': 3e-05, 'weight_decay': 0.005, 'per_device_train_batch_size': 16, 'per_device_eval_batch_size': 32, 'save_steps': 0, 'warmup_steps': 0, 'save_total_limit': 1, 'prediction_loss_only': True, 'eval_accumulation_steps': 1, 'eval_steps': 856}\n"
     ]
    },
    {
     "data": {
      "text/html": [
       "\n",
       "    <div>\n",
       "        <style>\n",
       "            /* Turns off some styling */\n",
       "            progress {\n",
       "                /* gets rid of default border in Firefox and Opera. */\n",
       "                border: none;\n",
       "                /* Needs to be in here for Safari polyfill so background images work as expected. */\n",
       "                background-size: auto;\n",
       "            }\n",
       "        </style>\n",
       "      \n",
       "      <progress value='2181' max='2181' style='width:300px; height:20px; vertical-align: middle;'></progress>\n",
       "      [2181/2181 14:09, Epoch 3/3]\n",
       "    </div>\n",
       "    <table border=\"1\" class=\"dataframe\">\n",
       "  <thead>\n",
       "    <tr style=\"text-align: left;\">\n",
       "      <th>Step</th>\n",
       "      <th>Training Loss</th>\n",
       "    </tr>\n",
       "  </thead>\n",
       "  <tbody>\n",
       "    <tr>\n",
       "      <td>500</td>\n",
       "      <td>0.660700</td>\n",
       "    </tr>\n",
       "    <tr>\n",
       "      <td>1000</td>\n",
       "      <td>0.775800</td>\n",
       "    </tr>\n",
       "    <tr>\n",
       "      <td>1500</td>\n",
       "      <td>0.946500</td>\n",
       "    </tr>\n",
       "    <tr>\n",
       "      <td>2000</td>\n",
       "      <td>1.138500</td>\n",
       "    </tr>\n",
       "  </tbody>\n",
       "</table><p>"
      ],
      "text/plain": [
       "<IPython.core.display.HTML object>"
      ]
     },
     "metadata": {},
     "output_type": "display_data"
    },
    {
     "data": {
      "text/html": [
       "\n",
       "    <div>\n",
       "        <style>\n",
       "            /* Turns off some styling */\n",
       "            progress {\n",
       "                /* gets rid of default border in Firefox and Opera. */\n",
       "                border: none;\n",
       "                /* Needs to be in here for Safari polyfill so background images work as expected. */\n",
       "                background-size: auto;\n",
       "            }\n",
       "        </style>\n",
       "      \n",
       "      <progress value='65' max='65' style='width:300px; height:20px; vertical-align: middle;'></progress>\n",
       "      [65/65 00:15]\n",
       "    </div>\n",
       "    "
      ],
      "text/plain": [
       "<IPython.core.display.HTML object>"
      ]
     },
     "metadata": {},
     "output_type": "display_data"
    },
    {
     "name": "stdout",
     "output_type": "stream",
     "text": [
      "------ - Perplexity: 3.63 | Fitted 4 jobs out of 6. Elapsed 00:57:42 ------\n",
      "  - Training model {'output_dir': '../data/03_models/trainer/', 'overwrite_output_dir': True, 'num_train_epochs': 3, 'learning_rate': 5e-05, 'weight_decay': 0.01, 'per_device_train_batch_size': 16, 'per_device_eval_batch_size': 32, 'save_steps': 0, 'warmup_steps': 0, 'save_total_limit': 1, 'prediction_loss_only': True, 'eval_accumulation_steps': 1, 'eval_steps': 856}\n"
     ]
    },
    {
     "data": {
      "text/html": [
       "\n",
       "    <div>\n",
       "        <style>\n",
       "            /* Turns off some styling */\n",
       "            progress {\n",
       "                /* gets rid of default border in Firefox and Opera. */\n",
       "                border: none;\n",
       "                /* Needs to be in here for Safari polyfill so background images work as expected. */\n",
       "                background-size: auto;\n",
       "            }\n",
       "        </style>\n",
       "      \n",
       "      <progress value='2181' max='2181' style='width:300px; height:20px; vertical-align: middle;'></progress>\n",
       "      [2181/2181 14:08, Epoch 3/3]\n",
       "    </div>\n",
       "    <table border=\"1\" class=\"dataframe\">\n",
       "  <thead>\n",
       "    <tr style=\"text-align: left;\">\n",
       "      <th>Step</th>\n",
       "      <th>Training Loss</th>\n",
       "    </tr>\n",
       "  </thead>\n",
       "  <tbody>\n",
       "    <tr>\n",
       "      <td>500</td>\n",
       "      <td>0.404700</td>\n",
       "    </tr>\n",
       "    <tr>\n",
       "      <td>1000</td>\n",
       "      <td>0.560200</td>\n",
       "    </tr>\n",
       "    <tr>\n",
       "      <td>1500</td>\n",
       "      <td>0.788500</td>\n",
       "    </tr>\n",
       "    <tr>\n",
       "      <td>2000</td>\n",
       "      <td>1.054300</td>\n",
       "    </tr>\n",
       "  </tbody>\n",
       "</table><p>"
      ],
      "text/plain": [
       "<IPython.core.display.HTML object>"
      ]
     },
     "metadata": {},
     "output_type": "display_data"
    },
    {
     "data": {
      "text/html": [
       "\n",
       "    <div>\n",
       "        <style>\n",
       "            /* Turns off some styling */\n",
       "            progress {\n",
       "                /* gets rid of default border in Firefox and Opera. */\n",
       "                border: none;\n",
       "                /* Needs to be in here for Safari polyfill so background images work as expected. */\n",
       "                background-size: auto;\n",
       "            }\n",
       "        </style>\n",
       "      \n",
       "      <progress value='65' max='65' style='width:300px; height:20px; vertical-align: middle;'></progress>\n",
       "      [65/65 00:15]\n",
       "    </div>\n",
       "    "
      ],
      "text/plain": [
       "<IPython.core.display.HTML object>"
      ]
     },
     "metadata": {},
     "output_type": "display_data"
    },
    {
     "name": "stdout",
     "output_type": "stream",
     "text": [
      "------ - Perplexity: 3.62 | Fitted 5 jobs out of 6. Elapsed 01:12:08 ------\n",
      "  - Training model {'output_dir': '../data/03_models/trainer/', 'overwrite_output_dir': True, 'num_train_epochs': 3, 'learning_rate': 5e-05, 'weight_decay': 0.005, 'per_device_train_batch_size': 16, 'per_device_eval_batch_size': 32, 'save_steps': 0, 'warmup_steps': 0, 'save_total_limit': 1, 'prediction_loss_only': True, 'eval_accumulation_steps': 1, 'eval_steps': 856}\n"
     ]
    },
    {
     "data": {
      "text/html": [
       "\n",
       "    <div>\n",
       "        <style>\n",
       "            /* Turns off some styling */\n",
       "            progress {\n",
       "                /* gets rid of default border in Firefox and Opera. */\n",
       "                border: none;\n",
       "                /* Needs to be in here for Safari polyfill so background images work as expected. */\n",
       "                background-size: auto;\n",
       "            }\n",
       "        </style>\n",
       "      \n",
       "      <progress value='2181' max='2181' style='width:300px; height:20px; vertical-align: middle;'></progress>\n",
       "      [2181/2181 14:09, Epoch 3/3]\n",
       "    </div>\n",
       "    <table border=\"1\" class=\"dataframe\">\n",
       "  <thead>\n",
       "    <tr style=\"text-align: left;\">\n",
       "      <th>Step</th>\n",
       "      <th>Training Loss</th>\n",
       "    </tr>\n",
       "  </thead>\n",
       "  <tbody>\n",
       "    <tr>\n",
       "      <td>500</td>\n",
       "      <td>0.196000</td>\n",
       "    </tr>\n",
       "    <tr>\n",
       "      <td>1000</td>\n",
       "      <td>0.299000</td>\n",
       "    </tr>\n",
       "    <tr>\n",
       "      <td>1500</td>\n",
       "      <td>0.528200</td>\n",
       "    </tr>\n",
       "    <tr>\n",
       "      <td>2000</td>\n",
       "      <td>0.909900</td>\n",
       "    </tr>\n",
       "  </tbody>\n",
       "</table><p>"
      ],
      "text/plain": [
       "<IPython.core.display.HTML object>"
      ]
     },
     "metadata": {},
     "output_type": "display_data"
    },
    {
     "data": {
      "text/html": [
       "\n",
       "    <div>\n",
       "        <style>\n",
       "            /* Turns off some styling */\n",
       "            progress {\n",
       "                /* gets rid of default border in Firefox and Opera. */\n",
       "                border: none;\n",
       "                /* Needs to be in here for Safari polyfill so background images work as expected. */\n",
       "                background-size: auto;\n",
       "            }\n",
       "        </style>\n",
       "      \n",
       "      <progress value='65' max='65' style='width:300px; height:20px; vertical-align: middle;'></progress>\n",
       "      [65/65 00:15]\n",
       "    </div>\n",
       "    "
      ],
      "text/plain": [
       "<IPython.core.display.HTML object>"
      ]
     },
     "metadata": {},
     "output_type": "display_data"
    },
    {
     "name": "stdout",
     "output_type": "stream",
     "text": [
      "------ - Perplexity: 3.74 | Fitted 6 jobs out of 6. Elapsed 01:26:34 ------\n",
      "--- Ending grid search, totalling 6 jobs. Elapsed 01:26:34 ---\n"
     ]
    }
   ],
   "source": [
    "from transformers import AutoModelForMaskedLM\n",
    "model = AutoModelForMaskedLM.from_pretrained(model_checkpoint)\n",
    "model.resize_token_embeddings(len(tokenizer)) \n",
    "\n",
    "us_models_params, us_scores = grid_search_for_language_modeling(\n",
    "                    baseline_model=model,\n",
    "                    param_grid=param_grid,\n",
    "                    n_combinations=None,\n",
    "                    X=train_dataset,\n",
    "                    data_collator=data_collator,\n",
    "                    model_name='us_bert_model',\n",
    "                    out_dir='../data/03_models/',\n",
    "                    tmp_dir='../data/03_models/tmp/'\n",
    "                    )\n",
    "\n",
    "import pickle\n",
    "pickle.dump(us_models_params, open('../data/03_models/us_models_params.p', 'wb'))\n",
    "pickle.dump(us_scores, open('../data/03_models/us_scores.p', 'wb'))"
   ]
  },
  {
   "cell_type": "markdown",
   "metadata": {
    "id": "-rXEihyk0ctW"
   },
   "source": [
    "We evaluate the results obtained in training"
   ]
  },
  {
   "cell_type": "code",
   "execution_count": 20,
   "metadata": {
    "colab": {
     "base_uri": "https://localhost:8080/"
    },
    "executionInfo": {
     "elapsed": 5374224,
     "status": "ok",
     "timestamp": 1619475892853,
     "user": {
      "displayName": "Daniel Díez",
      "photoUrl": "https://lh3.googleusercontent.com/a-/AOh14GhLEy0o7LWx6R7BMbWyhyGTGiCURLs_CtPEbpxL8P4=s64",
      "userId": "04428453110580774456"
     },
     "user_tz": -120
    },
    "id": "NC8tQzc00ctW",
    "outputId": "a65da69f-4f34-4cb6-a060-1df01a791076"
   },
   "outputs": [
    {
     "name": "stdout",
     "output_type": "stream",
     "text": [
      "- Training results: \n",
      "  - Model Perplexity: 4.48 | Params: {'output_dir': '../data/03_models/trainer/', 'overwrite_output_dir': True, 'num_train_epochs': 3, 'learning_rate': 2e-05, 'weight_decay': 0.01, 'per_device_train_batch_size': 16, 'per_device_eval_batch_size': 32, 'save_steps': 0, 'warmup_steps': 0, 'save_total_limit': 1, 'prediction_loss_only': True, 'eval_accumulation_steps': 1, 'eval_steps': 856}\n",
      "  - Model Perplexity: 3.94 | Params: {'output_dir': '../data/03_models/trainer/', 'overwrite_output_dir': True, 'num_train_epochs': 3, 'learning_rate': 2e-05, 'weight_decay': 0.005, 'per_device_train_batch_size': 16, 'per_device_eval_batch_size': 32, 'save_steps': 0, 'warmup_steps': 0, 'save_total_limit': 1, 'prediction_loss_only': True, 'eval_accumulation_steps': 1, 'eval_steps': 856}\n",
      "  - Model Perplexity: 3.67 | Params: {'output_dir': '../data/03_models/trainer/', 'overwrite_output_dir': True, 'num_train_epochs': 3, 'learning_rate': 3e-05, 'weight_decay': 0.01, 'per_device_train_batch_size': 16, 'per_device_eval_batch_size': 32, 'save_steps': 0, 'warmup_steps': 0, 'save_total_limit': 1, 'prediction_loss_only': True, 'eval_accumulation_steps': 1, 'eval_steps': 856}\n",
      "  - Model Perplexity: 3.63 | Params: {'output_dir': '../data/03_models/trainer/', 'overwrite_output_dir': True, 'num_train_epochs': 3, 'learning_rate': 3e-05, 'weight_decay': 0.005, 'per_device_train_batch_size': 16, 'per_device_eval_batch_size': 32, 'save_steps': 0, 'warmup_steps': 0, 'save_total_limit': 1, 'prediction_loss_only': True, 'eval_accumulation_steps': 1, 'eval_steps': 856}\n",
      "  - Model Perplexity: 3.62 | Params: {'output_dir': '../data/03_models/trainer/', 'overwrite_output_dir': True, 'num_train_epochs': 3, 'learning_rate': 5e-05, 'weight_decay': 0.01, 'per_device_train_batch_size': 16, 'per_device_eval_batch_size': 32, 'save_steps': 0, 'warmup_steps': 0, 'save_total_limit': 1, 'prediction_loss_only': True, 'eval_accumulation_steps': 1, 'eval_steps': 856}\n",
      "  - Model Perplexity: 3.74 | Params: {'output_dir': '../data/03_models/trainer/', 'overwrite_output_dir': True, 'num_train_epochs': 3, 'learning_rate': 5e-05, 'weight_decay': 0.005, 'per_device_train_batch_size': 16, 'per_device_eval_batch_size': 32, 'save_steps': 0, 'warmup_steps': 0, 'save_total_limit': 1, 'prediction_loss_only': True, 'eval_accumulation_steps': 1, 'eval_steps': 856}\n"
     ]
    }
   ],
   "source": [
    "print('- Training results: ')\n",
    "for model_params, score in zip(us_models_params, us_scores):\n",
    "    print(f'  - Model Perplexity: {score:.2f} | Params: {model_params}')"
   ]
  },
  {
   "cell_type": "markdown",
   "metadata": {
    "id": "Q2HmOlWL0ctX"
   },
   "source": [
    "And finally evaluate the results of the final best found model"
   ]
  },
  {
   "cell_type": "code",
   "execution_count": 21,
   "metadata": {
    "colab": {
     "base_uri": "https://localhost:8080/",
     "height": 55
    },
    "executionInfo": {
     "elapsed": 5425030,
     "status": "ok",
     "timestamp": 1619475943664,
     "user": {
      "displayName": "Daniel Díez",
      "photoUrl": "https://lh3.googleusercontent.com/a-/AOh14GhLEy0o7LWx6R7BMbWyhyGTGiCURLs_CtPEbpxL8P4=s64",
      "userId": "04428453110580774456"
     },
     "user_tz": -120
    },
    "id": "0VpvwX2p0ctX",
    "outputId": "c3d9e8e7-656f-439b-e8d8-703556ed11d2"
   },
   "outputs": [
    {
     "data": {
      "text/html": [
       "\n",
       "    <div>\n",
       "        <style>\n",
       "            /* Turns off some styling */\n",
       "            progress {\n",
       "                /* gets rid of default border in Firefox and Opera. */\n",
       "                border: none;\n",
       "                /* Needs to be in here for Safari polyfill so background images work as expected. */\n",
       "                background-size: auto;\n",
       "            }\n",
       "        </style>\n",
       "      \n",
       "      <progress value='428' max='428' style='width:300px; height:20px; vertical-align: middle;'></progress>\n",
       "      [428/428 00:26]\n",
       "    </div>\n",
       "    "
      ],
      "text/plain": [
       "<IPython.core.display.HTML object>"
      ]
     },
     "metadata": {},
     "output_type": "display_data"
    },
    {
     "name": "stdout",
     "output_type": "stream",
     "text": [
      " Best model perplexity on test: 3.70\n"
     ]
    }
   ],
   "source": [
    "model=AutoModelForMaskedLM.from_pretrained(\"../data/03_models/us_bert_model\")\n",
    "trainer = Trainer(\n",
    "                    model=model,\n",
    "                    eval_dataset=test_dataset,\n",
    "                    data_collator=data_collator,\n",
    "                        )\n",
    "eval_results = trainer.evaluate()\n",
    "print(f\" Best model perplexity on test: {math.exp(eval_results['eval_loss']):.2f}\")"
   ]
  }
 ],
 "metadata": {
  "accelerator": "GPU",
  "colab": {
   "collapsed_sections": [],
   "machine_shape": "hm",
   "name": "03_training_ModelForLM.ipynb",
   "provenance": []
  },
  "kernelspec": {
   "display_name": "euBERTus_env",
   "language": "python",
   "name": "eubertus_env"
  },
  "language_info": {
   "codemirror_mode": {
    "name": "ipython",
    "version": 3
   },
   "file_extension": ".py",
   "mimetype": "text/x-python",
   "name": "python",
   "nbconvert_exporter": "python",
   "pygments_lexer": "ipython3",
   "version": "3.7.6"
  },
  "metadata": {
   "interpreter": {
    "hash": "5e6813dbf69670d6d3886595d9cfd7f636152ce64500f8f1b519576bcad72771"
   }
  }
 },
 "nbformat": 4,
 "nbformat_minor": 4
}
